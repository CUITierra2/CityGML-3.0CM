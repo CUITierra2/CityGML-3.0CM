{
  "nbformat": 4,
  "nbformat_minor": 0,
  "metadata": {
    "colab": {
      "name": "Conexion Postgis.ipynb",
      "provenance": [],
      "authorship_tag": "ABX9TyMpWUYsvoYkf/1rPabN62iR",
      "include_colab_link": true
    },
    "kernelspec": {
      "name": "python3",
      "display_name": "Python 3"
    }
  },
  "cells": [
    {
      "cell_type": "markdown",
      "metadata": {
        "id": "view-in-github",
        "colab_type": "text"
      },
      "source": [
        "<a href=\"https://colab.research.google.com/github/CUITierra2/CityGML-3.0CM/blob/master/Conexion_Postgis.ipynb\" target=\"_parent\"><img src=\"https://colab.research.google.com/assets/colab-badge.svg\" alt=\"Open In Colab\"/></a>"
      ]
    },
    {
      "cell_type": "markdown",
      "metadata": {
        "id": "Nt9DKuDLe8Ei"
      },
      "source": [
        "Conexion con Postgis"
      ]
    },
    {
      "cell_type": "code",
      "metadata": {
        "id": "gzxl0GE-e5e2"
      },
      "source": [
        "# Install the libraries you'll need\r\n",
        "pip install geopandas\r\n",
        "pip install psycopg2-binary"
      ],
      "execution_count": null,
      "outputs": []
    }
  ]
}